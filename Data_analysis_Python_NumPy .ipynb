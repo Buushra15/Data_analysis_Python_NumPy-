{
 "cells": [
  {
   "cell_type": "code",
   "execution_count": 2,
   "id": "eb763962-e92a-446e-9493-41776bf611cd",
   "metadata": {},
   "outputs": [
    {
     "name": "stdout",
     "output_type": "stream",
     "text": [
      "[1 2 3]\n"
     ]
    }
   ],
   "source": [
    "import numpy as np\n",
    "arr1=np.array([1,2,3])\n",
    "print(arr1)"
   ]
  },
  {
   "cell_type": "code",
   "execution_count": 2,
   "id": "ca38f85c-e313-43cf-bedc-b86a849b54ef",
   "metadata": {},
   "outputs": [
    {
     "data": {
      "text/plain": [
       "array([1, 2, 5])"
      ]
     },
     "execution_count": 2,
     "metadata": {},
     "output_type": "execute_result"
    }
   ],
   "source": [
    "arr1[2]=5\n",
    "arr1"
   ]
  },
  {
   "cell_type": "code",
   "execution_count": 3,
   "id": "9c6efd0b-99ec-4bc3-8978-47170a22caf5",
   "metadata": {},
   "outputs": [
    {
     "name": "stdout",
     "output_type": "stream",
     "text": [
      "<class 'numpy.ndarray'>\n"
     ]
    }
   ],
   "source": [
    "print(type(arr1))"
   ]
  },
  {
   "cell_type": "code",
   "execution_count": 4,
   "id": "70e41b27-f220-4d31-925f-60378914f84a",
   "metadata": {},
   "outputs": [
    {
     "name": "stdout",
     "output_type": "stream",
     "text": [
      "(3,)\n"
     ]
    }
   ],
   "source": [
    "print(arr1.shape)"
   ]
  },
  {
   "cell_type": "code",
   "execution_count": 5,
   "id": "5f3d03f2-ea91-4add-b5d4-5470d87cdf3e",
   "metadata": {},
   "outputs": [
    {
     "name": "stdout",
     "output_type": "stream",
     "text": [
      "[[1 2 3]\n",
      " [3 4 5]]\n"
     ]
    }
   ],
   "source": [
    "arr2=np.array([[1,2,3],[3,4,5]])\n",
    "print(arr2)"
   ]
  },
  {
   "cell_type": "code",
   "execution_count": 6,
   "id": "f61ea470-89c2-43ac-8869-da0e0dfacbeb",
   "metadata": {},
   "outputs": [
    {
     "data": {
      "text/plain": [
       "5"
      ]
     },
     "execution_count": 6,
     "metadata": {},
     "output_type": "execute_result"
    }
   ],
   "source": [
    "arr2[1][2]"
   ]
  },
  {
   "cell_type": "code",
   "execution_count": 7,
   "id": "1bfcacd7-e54d-4802-8752-91308926900e",
   "metadata": {},
   "outputs": [
    {
     "name": "stdout",
     "output_type": "stream",
     "text": [
      "(2, 3)\n"
     ]
    }
   ],
   "source": [
    "print(arr2.shape)"
   ]
  },
  {
   "cell_type": "code",
   "execution_count": 9,
   "id": "ca891db4-ae7e-4ff0-aaa1-da296790140d",
   "metadata": {},
   "outputs": [
    {
     "data": {
      "text/plain": [
       "5"
      ]
     },
     "execution_count": 9,
     "metadata": {},
     "output_type": "execute_result"
    }
   ],
   "source": [
    "arr2[1][-1]"
   ]
  },
  {
   "cell_type": "code",
   "execution_count": 10,
   "id": "dac4515e-8c63-48f6-9afc-c77d06380502",
   "metadata": {},
   "outputs": [
    {
     "data": {
      "text/plain": [
       "array(['China', 'India', 'US', 'Mexico'], dtype='<U6')"
      ]
     },
     "execution_count": 10,
     "metadata": {},
     "output_type": "execute_result"
    }
   ],
   "source": [
    "arrS=np.array(['China','India','US','Mexico'])\n",
    "arrS"
   ]
  },
  {
   "cell_type": "code",
   "execution_count": 12,
   "id": "7ddf1000-ddb4-4d13-ace5-e243bb029268",
   "metadata": {},
   "outputs": [
    {
     "data": {
      "text/plain": [
       "array([ 0,  2,  4,  6,  8, 10, 12, 14, 16, 18])"
      ]
     },
     "execution_count": 12,
     "metadata": {},
     "output_type": "execute_result"
    }
   ],
   "source": [
    "arrR=np.arange(0,20,2)\n",
    "arrR"
   ]
  },
  {
   "cell_type": "code",
   "execution_count": 14,
   "id": "ce73e7a0-30fe-4b2b-a911-6f18a59abf6b",
   "metadata": {},
   "outputs": [
    {
     "data": {
      "text/plain": [
       "array([ 0.        ,  0.52631579,  1.05263158,  1.57894737,  2.10526316,\n",
       "        2.63157895,  3.15789474,  3.68421053,  4.21052632,  4.73684211,\n",
       "        5.26315789,  5.78947368,  6.31578947,  6.84210526,  7.36842105,\n",
       "        7.89473684,  8.42105263,  8.94736842,  9.47368421, 10.        ])"
      ]
     },
     "execution_count": 14,
     "metadata": {},
     "output_type": "execute_result"
    }
   ],
   "source": [
    "arrL=np.linspace(0,10,20)\n",
    "arrL"
   ]
  },
  {
   "cell_type": "code",
   "execution_count": 16,
   "id": "04073c50-e1f0-4d54-95e4-8905f99d087f",
   "metadata": {},
   "outputs": [
    {
     "data": {
      "text/plain": [
       "array([0.84400025, 0.15972639, 0.17143408, 0.80781035, 0.41128712,\n",
       "       0.83493892, 0.89402675, 0.1222208 , 0.19291705, 0.69100952])"
      ]
     },
     "execution_count": 16,
     "metadata": {},
     "output_type": "execute_result"
    }
   ],
   "source": [
    "arr=np.random.rand(10)\n",
    "arr"
   ]
  },
  {
   "cell_type": "code",
   "execution_count": 17,
   "id": "547a35ac-ce07-4018-b1d8-fa9ee56ff2fb",
   "metadata": {},
   "outputs": [
    {
     "data": {
      "text/plain": [
       "array([[0.82495829, 0.20318495, 0.24393806, 0.65967517],\n",
       "       [0.85511796, 0.73772367, 0.01106321, 0.19265978],\n",
       "       [0.25990272, 0.191453  , 0.30779655, 0.98041785]])"
      ]
     },
     "execution_count": 17,
     "metadata": {},
     "output_type": "execute_result"
    }
   ],
   "source": [
    "arr=np.random.rand(3,4)\n",
    "arr"
   ]
  },
  {
   "cell_type": "code",
   "execution_count": 20,
   "id": "b45db1f9-5203-4172-8b1b-f2dcfee6d097",
   "metadata": {},
   "outputs": [
    {
     "name": "stdout",
     "output_type": "stream",
     "text": [
      "[0. 0. 0. 0. 0. 0. 0. 0. 0. 0.]\n",
      "/n\n",
      "[[0. 0. 0.]\n",
      " [0. 0. 0.]]\n"
     ]
    }
   ],
   "source": [
    "print(np.zeros(10))\n",
    "print('/n')\n",
    "print(np.zeros((2,3)))"
   ]
  },
  {
   "cell_type": "code",
   "execution_count": 22,
   "id": "5615db0f-15c8-458a-b5d2-50892a03c796",
   "metadata": {},
   "outputs": [
    {
     "name": "stdout",
     "output_type": "stream",
     "text": [
      "[[1. 1. 1. 1. 1. 1. 1. 1. 1. 1.]\n",
      " [1. 1. 1. 1. 1. 1. 1. 1. 1. 1.]\n",
      " [1. 1. 1. 1. 1. 1. 1. 1. 1. 1.]\n",
      " [1. 1. 1. 1. 1. 1. 1. 1. 1. 1.]\n",
      " [1. 1. 1. 1. 1. 1. 1. 1. 1. 1.]\n",
      " [1. 1. 1. 1. 1. 1. 1. 1. 1. 1.]\n",
      " [1. 1. 1. 1. 1. 1. 1. 1. 1. 1.]\n",
      " [1. 1. 1. 1. 1. 1. 1. 1. 1. 1.]\n",
      " [1. 1. 1. 1. 1. 1. 1. 1. 1. 1.]\n",
      " [1. 1. 1. 1. 1. 1. 1. 1. 1. 1.]]\n"
     ]
    }
   ],
   "source": [
    "print(np.ones((10,10)))"
   ]
  },
  {
   "cell_type": "code",
   "execution_count": 24,
   "id": "f6fbf3ed-70dc-4031-a290-5318d98e9fc9",
   "metadata": {},
   "outputs": [
    {
     "name": "stdout",
     "output_type": "stream",
     "text": [
      "[0 0 0 1 1 1 2 2 2]\n"
     ]
    }
   ],
   "source": [
    "arr = [0, 1, 2]\n",
    "print(np.repeat(arr,3))"
   ]
  },
  {
   "cell_type": "code",
   "execution_count": 25,
   "id": "fed58104-3d33-42ea-9aa1-ef8a9456f021",
   "metadata": {},
   "outputs": [
    {
     "name": "stdout",
     "output_type": "stream",
     "text": [
      "[0 1 2 0 1 2 0 1 2]\n"
     ]
    }
   ],
   "source": [
    "print(np.tile(arr,3))"
   ]
  },
  {
   "cell_type": "code",
   "execution_count": 26,
   "id": "08ada170-1faf-42b1-b9ee-5984b28ae667",
   "metadata": {},
   "outputs": [
    {
     "data": {
      "text/plain": [
       "array([[1., 0., 0.],\n",
       "       [0., 1., 0.],\n",
       "       [0., 0., 1.]])"
      ]
     },
     "execution_count": 26,
     "metadata": {},
     "output_type": "execute_result"
    }
   ],
   "source": [
    "identity_matrix = np.eye(3)\n",
    "identity_matrix"
   ]
  },
  {
   "cell_type": "code",
   "execution_count": 27,
   "id": "5a60f573-2ee7-43e2-bbdd-b26cb7c10cef",
   "metadata": {},
   "outputs": [
    {
     "data": {
      "text/plain": [
       "array([[1, 0, 0, 0, 0],\n",
       "       [0, 2, 0, 0, 0],\n",
       "       [0, 0, 3, 0, 0],\n",
       "       [0, 0, 0, 4, 0],\n",
       "       [0, 0, 0, 0, 5]])"
      ]
     },
     "execution_count": 27,
     "metadata": {},
     "output_type": "execute_result"
    }
   ],
   "source": [
    "np.diag([1,2,3,4,5])"
   ]
  },
  {
   "cell_type": "code",
   "execution_count": 28,
   "id": "018e252e-218e-483c-9b6b-1b001a085197",
   "metadata": {},
   "outputs": [
    {
     "data": {
      "text/plain": [
       "array([[0.9048961 , 0.67716006, 0.32365977, 0.7841982 , 0.7348909 ],\n",
       "       [0.8813766 , 0.96378433, 0.89393044, 0.51230913, 0.71624988],\n",
       "       [0.65577802, 0.18901502, 0.61460968, 0.53303104, 0.45824212],\n",
       "       [0.44775708, 0.55333182, 0.74975489, 0.71991722, 0.05309139],\n",
       "       [0.208129  , 0.76829977, 0.62282055, 0.82976136, 0.57672751]])"
      ]
     },
     "execution_count": 28,
     "metadata": {},
     "output_type": "execute_result"
    }
   ],
   "source": [
    "arr = np.random.rand(5,5)\n",
    "arr"
   ]
  },
  {
   "cell_type": "code",
   "execution_count": 29,
   "id": "403740ee-4bdb-4614-a828-e6a90721c07d",
   "metadata": {},
   "outputs": [
    {
     "data": {
      "text/plain": [
       "array([0.9048961 , 0.96378433, 0.61460968, 0.71991722, 0.57672751])"
      ]
     },
     "execution_count": 29,
     "metadata": {},
     "output_type": "execute_result"
    }
   ],
   "source": [
    "np.diag(arr)"
   ]
  },
  {
   "cell_type": "code",
   "execution_count": 30,
   "id": "41752811-9c8d-4837-93bd-21714c630cf0",
   "metadata": {},
   "outputs": [
    {
     "data": {
      "text/plain": [
       "2"
      ]
     },
     "execution_count": 30,
     "metadata": {},
     "output_type": "execute_result"
    }
   ],
   "source": [
    "arr.ndim"
   ]
  },
  {
   "cell_type": "code",
   "execution_count": 31,
   "id": "f3d5ef38-55d2-484f-87af-fe1cf34d5db7",
   "metadata": {},
   "outputs": [
    {
     "data": {
      "text/plain": [
       "25"
      ]
     },
     "execution_count": 31,
     "metadata": {},
     "output_type": "execute_result"
    }
   ],
   "source": [
    "arr.size"
   ]
  },
  {
   "cell_type": "code",
   "execution_count": 32,
   "id": "7b787cad-085d-489e-8160-a66df59a113c",
   "metadata": {},
   "outputs": [
    {
     "data": {
      "text/plain": [
       "(5, 5)"
      ]
     },
     "execution_count": 32,
     "metadata": {},
     "output_type": "execute_result"
    }
   ],
   "source": [
    "arr.shape"
   ]
  },
  {
   "cell_type": "code",
   "execution_count": 33,
   "id": "e3a298a9-a436-4668-a415-a3a2210b45f7",
   "metadata": {},
   "outputs": [
    {
     "data": {
      "text/plain": [
       "array([  2,   3,  -5, -10])"
      ]
     },
     "execution_count": 33,
     "metadata": {},
     "output_type": "execute_result"
    }
   ],
   "source": [
    "np.random.randint(-10,10,4)"
   ]
  },
  {
   "cell_type": "code",
   "execution_count": 36,
   "id": "465c828e-2c27-45db-9117-57b443a53c1d",
   "metadata": {},
   "outputs": [
    {
     "data": {
      "text/plain": [
       "array([[9.04896096, 6.77160062, 3.23659766, 7.84198204, 7.34890905],\n",
       "       [8.81376596, 9.63784327, 8.93930439, 5.12309132, 7.16249878],\n",
       "       [6.55778016, 1.89015022, 6.14609677, 5.33031044, 4.58242123],\n",
       "       [4.47757081, 5.53331817, 7.49754894, 7.19917216, 0.53091392],\n",
       "       [2.08128997, 7.68299772, 6.2282055 , 8.29761362, 5.76727511]])"
      ]
     },
     "execution_count": 36,
     "metadata": {},
     "output_type": "execute_result"
    }
   ],
   "source": [
    "arr*10"
   ]
  },
  {
   "cell_type": "code",
   "execution_count": 37,
   "id": "e615c4da-72ba-4adc-94d5-b5313831df29",
   "metadata": {},
   "outputs": [
    {
     "data": {
      "text/plain": [
       "array([[2.47167509, 1.96827999, 1.38217696, 2.19064978, 2.08525449],\n",
       "       [2.41422083, 2.62159871, 2.44471961, 1.66914102, 2.04674326],\n",
       "       [1.92664089, 1.2080591 , 1.84893478, 1.70408966, 1.58129182],\n",
       "       [1.56479853, 1.73903753, 2.11648119, 2.05426314, 1.05452602],\n",
       "       [1.231372  , 2.15609728, 1.86417864, 2.29277153, 1.78020319]])"
      ]
     },
     "execution_count": 37,
     "metadata": {},
     "output_type": "execute_result"
    }
   ],
   "source": [
    "np.exp(arr)"
   ]
  },
  {
   "cell_type": "code",
   "execution_count": 38,
   "id": "adeb6b02-ed61-4371-b72e-dbfa15aff524",
   "metadata": {},
   "outputs": [
    {
     "data": {
      "text/plain": [
       "array([[0.9048961 , 0.67716006, 0.32365977, 0.7841982 , 0.7348909 ],\n",
       "       [0.8813766 , 0.96378433, 0.89393044, 0.51230913, 0.71624988],\n",
       "       [0.65577802, 0.18901502, 0.61460968, 0.53303104, 0.45824212],\n",
       "       [0.44775708, 0.55333182, 0.74975489, 0.71991722, 0.05309139],\n",
       "       [0.208129  , 0.76829977, 0.62282055, 0.82976136, 0.57672751]])"
      ]
     },
     "execution_count": 38,
     "metadata": {},
     "output_type": "execute_result"
    }
   ],
   "source": [
    "arr"
   ]
  },
  {
   "cell_type": "code",
   "execution_count": 42,
   "id": "d4ebe5d6-1ec5-4381-ae64-473c4b76916a",
   "metadata": {},
   "outputs": [
    {
     "data": {
      "text/plain": [
       "array([[-0.09993515, -0.38984761, -1.12806242, -0.24309348, -0.30803322],\n",
       "       [-0.12627028, -0.03688774, -0.11212732, -0.66882706, -0.33372618],\n",
       "       [-0.42193294, -1.66592878, -0.48676788, -0.62917561, -0.78035758],\n",
       "       [-0.80350442, -0.59179743, -0.28800893, -0.32861905, -2.93574048],\n",
       "       [-1.56959721, -0.26357529, -0.47349684, -0.18661714, -0.55038538]])"
      ]
     },
     "execution_count": 42,
     "metadata": {},
     "output_type": "execute_result"
    }
   ],
   "source": [
    "np.log(arr)"
   ]
  },
  {
   "cell_type": "code",
   "execution_count": 43,
   "id": "2e08ae51-6392-4c4e-b341-846fec008bcf",
   "metadata": {},
   "outputs": [
    {
     "data": {
      "text/plain": [
       "array([[0.78636097, 0.62658223, 0.31803843, 0.70625777, 0.67050622],\n",
       "       [0.77161525, 0.82135608, 0.7795396 , 0.49019123, 0.65656068],\n",
       "       [0.60977606, 0.18789155, 0.57663967, 0.50814622, 0.44237227],\n",
       "       [0.43294481, 0.52552478, 0.6814594 , 0.65932243, 0.05306645],\n",
       "       [0.20662964, 0.69491362, 0.58332843, 0.7377703 , 0.54528369]])"
      ]
     },
     "execution_count": 43,
     "metadata": {},
     "output_type": "execute_result"
    }
   ],
   "source": [
    "np.sin(arr)"
   ]
  },
  {
   "cell_type": "code",
   "execution_count": 44,
   "id": "ee4eb3d3-62b8-478c-84bc-76d0d4c6da7a",
   "metadata": {},
   "outputs": [
    {
     "data": {
      "text/plain": [
       "array([[0.9048961 , 0.67716006, 0.32365977, 0.7841982 , 0.7348909 ],\n",
       "       [0.8813766 , 0.96378433, 0.89393044, 0.51230913, 0.71624988],\n",
       "       [0.65577802, 0.18901502, 0.61460968, 0.53303104, 0.45824212],\n",
       "       [0.44775708, 0.55333182, 0.74975489, 0.71991722, 0.05309139],\n",
       "       [0.208129  , 0.76829977, 0.62282055, 0.82976136, 0.57672751]])"
      ]
     },
     "execution_count": 44,
     "metadata": {},
     "output_type": "execute_result"
    }
   ],
   "source": [
    "arr"
   ]
  },
  {
   "cell_type": "code",
   "execution_count": 47,
   "id": "08bfe403-aa86-4e9c-938f-929416ec8282",
   "metadata": {},
   "outputs": [
    {
     "data": {
      "text/plain": [
       "array([3.42480503, 3.96765037, 2.45067588, 2.5238524 , 3.00573819])"
      ]
     },
     "execution_count": 47,
     "metadata": {},
     "output_type": "execute_result"
    }
   ],
   "source": [
    "np.sum(arr,axis=1)"
   ]
  },
  {
   "cell_type": "code",
   "execution_count": 48,
   "id": "026abcd4-014c-43f9-8984-d54fb67b97aa",
   "metadata": {},
   "outputs": [
    {
     "data": {
      "text/plain": [
       "array([0.208129  , 0.18901502, 0.32365977, 0.51230913, 0.05309139])"
      ]
     },
     "execution_count": 48,
     "metadata": {},
     "output_type": "execute_result"
    }
   ],
   "source": [
    "np.min(arr,axis=0)"
   ]
  },
  {
   "cell_type": "code",
   "execution_count": 49,
   "id": "00d1b39f-dc19-46fa-9aad-0a0566672fc2",
   "metadata": {},
   "outputs": [
    {
     "data": {
      "text/plain": [
       "0.9637843266394647"
      ]
     },
     "execution_count": 49,
     "metadata": {},
     "output_type": "execute_result"
    }
   ],
   "source": [
    "np.max(arr)"
   ]
  },
  {
   "cell_type": "code",
   "execution_count": 51,
   "id": "f1f93a7a-c9a7-438b-8b82-29dbbeba46c6",
   "metadata": {},
   "outputs": [
    {
     "data": {
      "text/plain": [
       "array([0.68496101, 0.79353007, 0.49013518, 0.50477048, 0.60114764])"
      ]
     },
     "execution_count": 51,
     "metadata": {},
     "output_type": "execute_result"
    }
   ],
   "source": [
    "np.mean(arr,axis=1)"
   ]
  },
  {
   "cell_type": "code",
   "execution_count": 52,
   "id": "0d7aa03f-6f21-4fc2-825b-20455f5a6f5b",
   "metadata": {},
   "outputs": [
    {
     "data": {
      "text/plain": [
       "array([0.26460086, 0.25811165, 0.18843205, 0.13000987, 0.24859144])"
      ]
     },
     "execution_count": 52,
     "metadata": {},
     "output_type": "execute_result"
    }
   ],
   "source": [
    "np.std(arr,axis=0)"
   ]
  },
  {
   "cell_type": "code",
   "execution_count": 53,
   "id": "181760f8-5f30-4808-ba5a-851c837c7730",
   "metadata": {},
   "outputs": [
    {
     "data": {
      "text/plain": [
       "0.0533913141231095"
      ]
     },
     "execution_count": 53,
     "metadata": {},
     "output_type": "execute_result"
    }
   ],
   "source": [
    "np.var(arr)"
   ]
  },
  {
   "cell_type": "code",
   "execution_count": 55,
   "id": "9c9a5171-ef76-4e98-90f5-fcccd2d01656",
   "metadata": {},
   "outputs": [
    {
     "data": {
      "text/plain": [
       "array([[0.9048961 , 0.67716006, 0.32365977, 0.7841982 , 0.7348909 ],\n",
       "       [0.8813766 , 0.96378433, 0.89393044, 0.51230913, 0.71624988],\n",
       "       [0.65577802, 0.18901502, 0.61460968, 0.53303104, 0.45824212],\n",
       "       [0.44775708, 0.55333182, 0.74975489, 0.71991722, 0.05309139],\n",
       "       [0.208129  , 0.76829977, 0.62282055, 0.82976136, 0.57672751]])"
      ]
     },
     "execution_count": 55,
     "metadata": {},
     "output_type": "execute_result"
    }
   ],
   "source": [
    "arr"
   ]
  },
  {
   "cell_type": "code",
   "execution_count": 56,
   "id": "2084b9eb-cbe7-4943-9b06-93f83268a9f9",
   "metadata": {},
   "outputs": [
    {
     "data": {
      "text/plain": [
       "array([[0.89393044],\n",
       "       [0.61460968],\n",
       "       [0.74975489],\n",
       "       [0.62282055]])"
      ]
     },
     "execution_count": 56,
     "metadata": {},
     "output_type": "execute_result"
    }
   ],
   "source": [
    "arr[1:,2:3]"
   ]
  },
  {
   "cell_type": "code",
   "execution_count": 57,
   "id": "e4018a71-1936-432b-928c-688c6f987ac3",
   "metadata": {},
   "outputs": [
    {
     "data": {
      "text/plain": [
       "array([[0.32365977, 0.67716006, 0.7348909 , 0.7841982 , 0.9048961 ],\n",
       "       [0.51230913, 0.71624988, 0.8813766 , 0.89393044, 0.96378433],\n",
       "       [0.18901502, 0.45824212, 0.53303104, 0.61460968, 0.65577802],\n",
       "       [0.05309139, 0.44775708, 0.55333182, 0.71991722, 0.74975489],\n",
       "       [0.208129  , 0.57672751, 0.62282055, 0.76829977, 0.82976136]])"
      ]
     },
     "execution_count": 57,
     "metadata": {},
     "output_type": "execute_result"
    }
   ],
   "source": [
    " np.sort(arr, axis =1)"
   ]
  },
  {
   "cell_type": "code",
   "execution_count": 58,
   "id": "3ee8abee-0c52-4911-9777-505481ef4144",
   "metadata": {},
   "outputs": [
    {
     "data": {
      "text/plain": [
       "array([[0.9048961 , 0.8813766 , 0.65577802, 0.44775708, 0.208129  ],\n",
       "       [0.67716006, 0.96378433, 0.18901502, 0.55333182, 0.76829977],\n",
       "       [0.32365977, 0.89393044, 0.61460968, 0.74975489, 0.62282055],\n",
       "       [0.7841982 , 0.51230913, 0.53303104, 0.71991722, 0.82976136],\n",
       "       [0.7348909 , 0.71624988, 0.45824212, 0.05309139, 0.57672751]])"
      ]
     },
     "execution_count": 58,
     "metadata": {},
     "output_type": "execute_result"
    }
   ],
   "source": [
    " arr.T"
   ]
  },
  {
   "cell_type": "code",
   "execution_count": 59,
   "id": "8e29686d-a757-417d-af6b-b4d7a3073019",
   "metadata": {},
   "outputs": [
    {
     "data": {
      "text/plain": [
       "array([[0.9048961 , 0.67716006, 0.32365977, 0.7841982 , 0.7348909 ],\n",
       "       [0.8813766 , 0.96378433, 0.89393044, 0.51230913, 0.71624988],\n",
       "       [0.65577802, 0.18901502, 0.61460968, 0.53303104, 0.45824212],\n",
       "       [0.44775708, 0.55333182, 0.74975489, 0.71991722, 0.05309139],\n",
       "       [0.208129  , 0.76829977, 0.62282055, 0.82976136, 0.57672751]])"
      ]
     },
     "execution_count": 59,
     "metadata": {},
     "output_type": "execute_result"
    }
   ],
   "source": [
    "arr"
   ]
  },
  {
   "cell_type": "code",
   "execution_count": 60,
   "id": "8d9c1083-8372-4102-a030-17e788958652",
   "metadata": {},
   "outputs": [
    {
     "data": {
      "text/plain": [
       "array([[0.9048961 , 0.8813766 , 0.65577802],\n",
       "       [0.67716006, 0.96378433, 0.18901502],\n",
       "       [0.32365977, 0.89393044, 0.61460968],\n",
       "       [0.7841982 , 0.51230913, 0.53303104],\n",
       "       [0.7348909 , 0.71624988, 0.45824212]])"
      ]
     },
     "execution_count": 60,
     "metadata": {},
     "output_type": "execute_result"
    }
   ],
   "source": [
    "arr[:3,:].T"
   ]
  },
  {
   "cell_type": "code",
   "execution_count": 61,
   "id": "62fbe29d-54d1-4ab4-b421-f08eb7bb8b16",
   "metadata": {},
   "outputs": [
    {
     "data": {
      "text/plain": [
       "array([0.9048961 , 0.67716006, 0.32365977, 0.7841982 , 0.7348909 ,\n",
       "       0.8813766 , 0.96378433, 0.89393044, 0.51230913, 0.71624988,\n",
       "       0.65577802, 0.18901502, 0.61460968, 0.53303104, 0.45824212])"
      ]
     },
     "execution_count": 61,
     "metadata": {},
     "output_type": "execute_result"
    }
   ],
   "source": [
    "arr[:3,:].flatten()"
   ]
  },
  {
   "cell_type": "code",
   "execution_count": 64,
   "id": "89e805ce-75c1-4ba0-a448-e4563970e7e4",
   "metadata": {},
   "outputs": [
    {
     "data": {
      "text/plain": [
       "array([4, 5, 6, 7, 8])"
      ]
     },
     "execution_count": 64,
     "metadata": {},
     "output_type": "execute_result"
    }
   ],
   "source": [
    "arr = np.array([4,5,6,7,8])\n",
    "arr"
   ]
  },
  {
   "cell_type": "code",
   "execution_count": 66,
   "id": "68344a98-0731-4560-acc6-f818c922abca",
   "metadata": {},
   "outputs": [
    {
     "data": {
      "text/plain": [
       "array([4, 5, 6, 7, 8, 8])"
      ]
     },
     "execution_count": 66,
     "metadata": {},
     "output_type": "execute_result"
    }
   ],
   "source": [
    "arr1=np.append(arr,8)\n",
    "arr1"
   ]
  },
  {
   "cell_type": "code",
   "execution_count": 67,
   "id": "f5b7df19-6b7a-4ad4-9e4c-343b89841ff2",
   "metadata": {},
   "outputs": [
    {
     "data": {
      "text/plain": [
       "array([1, 2, 3, 4, 5, 6, 7, 8])"
      ]
     },
     "execution_count": 67,
     "metadata": {},
     "output_type": "execute_result"
    }
   ],
   "source": [
    "arr2=np.insert(arr, 0,[1,2,3])\n",
    "arr2"
   ]
  },
  {
   "cell_type": "code",
   "execution_count": 68,
   "id": "d3a37fb9-aabb-40a5-a34c-05b60630bc2a",
   "metadata": {},
   "outputs": [
    {
     "data": {
      "text/plain": [
       "array([2, 3, 4, 5, 6, 7, 8])"
      ]
     },
     "execution_count": 68,
     "metadata": {},
     "output_type": "execute_result"
    }
   ],
   "source": [
    "arr3=np.delete(arr2,0)\n",
    "arr3"
   ]
  },
  {
   "cell_type": "code",
   "execution_count": 69,
   "id": "f73246ed-1b64-4592-a25e-c5450edf090a",
   "metadata": {},
   "outputs": [
    {
     "data": {
      "text/plain": [
       "array([1, 3, 5, 6, 7, 8])"
      ]
     },
     "execution_count": 69,
     "metadata": {},
     "output_type": "execute_result"
    }
   ],
   "source": [
    "arr3=np.delete(arr2,[1,3])\n",
    "arr3"
   ]
  },
  {
   "cell_type": "code",
   "execution_count": 70,
   "id": "2ca6dd79-4efb-4113-a729-fc5fd2b3ffc2",
   "metadata": {},
   "outputs": [],
   "source": [
    "arrC=arr3.copy()"
   ]
  },
  {
   "cell_type": "code",
   "execution_count": 71,
   "id": "3d0cd607-fcf0-4be3-b8a5-64c5951f298e",
   "metadata": {},
   "outputs": [
    {
     "data": {
      "text/plain": [
       "array([1, 3, 5, 6, 7, 8])"
      ]
     },
     "execution_count": 71,
     "metadata": {},
     "output_type": "execute_result"
    }
   ],
   "source": [
    "arrC"
   ]
  },
  {
   "cell_type": "code",
   "execution_count": 21,
   "id": "af9cac6e-78a1-4020-a96a-edd21d2810b2",
   "metadata": {},
   "outputs": [
    {
     "data": {
      "text/plain": [
       "array([[1, 2, 3, 4, 5, 6, 7, 8],\n",
       "       [1, 2, 3, 4, 5, 6, 7, 8]])"
      ]
     },
     "execution_count": 21,
     "metadata": {},
     "output_type": "execute_result"
    }
   ],
   "source": [
    "arr1=np.array([[1,2,3,4],[1,2,3,4]])\n",
    "arr2=np.array([[5,6,7,8],[5,6,7,8]])\n",
    "arr_cat=np.concatenate((arr1,arr2),axis=1)\n",
    "print(arr_cat)"
   ]
  },
  {
   "cell_type": "code",
   "execution_count": 7,
   "id": "13195c6f-a278-4695-99ce-85ff2a37fdc4",
   "metadata": {},
   "outputs": [
    {
     "data": {
      "text/plain": [
       "array([[1, 2, 3, 4, 5, 6, 7, 8],\n",
       "       [1, 2, 3, 4, 5, 6, 7, 8]])"
      ]
     },
     "execution_count": 7,
     "metadata": {},
     "output_type": "execute_result"
    }
   ],
   "source": [
    "catV=np.hstack((arr1,arr2))\n",
    "catV"
   ]
  },
  {
   "cell_type": "code",
   "execution_count": 8,
   "id": "b6da86b9-5781-4632-ae5f-bd04430900a1",
   "metadata": {},
   "outputs": [
    {
     "data": {
      "text/plain": [
       "array([[1, 2, 3, 4],\n",
       "       [1, 2, 3, 4],\n",
       "       [5, 6, 7, 8],\n",
       "       [5, 6, 7, 8]])"
      ]
     },
     "execution_count": 8,
     "metadata": {},
     "output_type": "execute_result"
    }
   ],
   "source": [
    "catV=np.vstack((arr1,arr2))\n",
    "catV"
   ]
  },
  {
   "cell_type": "code",
   "execution_count": 9,
   "id": "685af1de-c563-414f-a6e7-f3325751a2c4",
   "metadata": {},
   "outputs": [
    {
     "data": {
      "text/plain": [
       "array([1, 2, 3, 4, 5, 6])"
      ]
     },
     "execution_count": 9,
     "metadata": {},
     "output_type": "execute_result"
    }
   ],
   "source": [
    "arr=np.array([1,2,3,4,5,6,3,6,1,2,4])\n",
    "np.unique(arr)"
   ]
  },
  {
   "cell_type": "code",
   "execution_count": 12,
   "id": "e303b8b9-3461-4120-96d5-51af75b56c30",
   "metadata": {},
   "outputs": [
    {
     "name": "stdout",
     "output_type": "stream",
     "text": [
      "[1 2 3 4 5 6]\n",
      "[2 2 2 2 1 2]\n"
     ]
    }
   ],
   "source": [
    "uniques,counts=np.unique(arr,return_counts=True)\n",
    "print(uniques)\n",
    "print(counts)"
   ]
  },
  {
   "cell_type": "code",
   "execution_count": 18,
   "id": "14459c88-8c9c-4ef8-99e7-1411951daeaf",
   "metadata": {},
   "outputs": [
    {
     "name": "stdout",
     "output_type": "stream",
     "text": [
      "[3 4 5]\n",
      "[1 2 3 4 5 6 7]\n",
      "[1 2]\n"
     ]
    }
   ],
   "source": [
    "#intersection, dufferentiation, neither\n",
    "arr1=np.array([1,2,3,4,5])\n",
    "arr2=np.array([3,4,5,6,7])\n",
    "print(np.intersect1d(arr1,arr2))\n",
    "print(np.union1d(arr1,arr2))\n",
    "print(np.setdiff1d(arr1,arr2))"
   ]
  },
  {
   "cell_type": "code",
   "execution_count": null,
   "id": "54f3346e-ee58-4dad-9d62-7c5d2ffc4218",
   "metadata": {},
   "outputs": [],
   "source": []
  }
 ],
 "metadata": {
  "kernelspec": {
   "display_name": "Python 3 (ipykernel)",
   "language": "python",
   "name": "python3"
  },
  "language_info": {
   "codemirror_mode": {
    "name": "ipython",
    "version": 3
   },
   "file_extension": ".py",
   "mimetype": "text/x-python",
   "name": "python",
   "nbconvert_exporter": "python",
   "pygments_lexer": "ipython3",
   "version": "3.11.7"
  }
 },
 "nbformat": 4,
 "nbformat_minor": 5
}
